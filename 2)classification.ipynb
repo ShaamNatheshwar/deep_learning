{
  "nbformat": 4,
  "nbformat_minor": 0,
  "metadata": {
    "colab": {
      "name": "2)classification.ipynb",
      "provenance": [],
      "collapsed_sections": [],
      "authorship_tag": "ABX9TyOs2K4hOznnTwYN5hgLyse1",
      "include_colab_link": true
    },
    "kernelspec": {
      "name": "python3",
      "display_name": "Python 3"
    },
    "language_info": {
      "name": "python"
    }
  },
  "cells": [
    {
      "cell_type": "markdown",
      "metadata": {
        "id": "view-in-github",
        "colab_type": "text"
      },
      "source": [
        "<a href=\"https://colab.research.google.com/github/ShaamNatheshwar/deep_learning/blob/main/2)classification.ipynb\" target=\"_parent\"><img src=\"https://colab.research.google.com/assets/colab-badge.svg\" alt=\"Open In Colab\"/></a>"
      ]
    },
    {
      "cell_type": "code",
      "metadata": {
        "id": "4wRVlc3E3bV3"
      },
      "source": [
        "import numpy as np\n",
        "import pandas as pd\n",
        "import matplotlib.pyplot as plt\n",
        "import tensorflow as tf"
      ],
      "execution_count": 1,
      "outputs": []
    },
    {
      "cell_type": "code",
      "metadata": {
        "id": "KmHuKOxw_IoN"
      },
      "source": [
        "CSV_COLUMN_NAMES = ['SepalLength', 'SepalWidth', 'PetalLength', 'PetalWidth', 'Species']\n",
        "SPECIES = ['Setosa', 'Versicolor', 'Virginica']"
      ],
      "execution_count": 2,
      "outputs": []
    },
    {
      "cell_type": "code",
      "metadata": {
        "id": "PPH_bndQ_UaQ"
      },
      "source": [
        "train_path = tf.keras.utils.get_file(\n",
        "    \"iris_training.csv\", \"https://storage.googleapis.com/download.tensorflow.org/data/iris_training.csv\")\n",
        "test_path = tf.keras.utils.get_file(\n",
        "    \"iris_test.csv\", \"https://storage.googleapis.com/download.tensorflow.org/data/iris_test.csv\")\n",
        "train = pd.read_csv(train_path, names=CSV_COLUMN_NAMES,header=0)\n",
        "test = pd.read_csv(test_path, names=CSV_COLUMN_NAMES,header=0)"
      ],
      "execution_count": 6,
      "outputs": []
    },
    {
      "cell_type": "code",
      "metadata": {
        "colab": {
          "base_uri": "https://localhost:8080/",
          "height": 204
        },
        "id": "AE3I3_Y8_zIl",
        "outputId": "2bcb3604-bd77-4d10-8b2b-caffa1d9db10"
      },
      "source": [
        "train.head()"
      ],
      "execution_count": 7,
      "outputs": [
        {
          "output_type": "execute_result",
          "data": {
            "text/html": [
              "<div>\n",
              "<style scoped>\n",
              "    .dataframe tbody tr th:only-of-type {\n",
              "        vertical-align: middle;\n",
              "    }\n",
              "\n",
              "    .dataframe tbody tr th {\n",
              "        vertical-align: top;\n",
              "    }\n",
              "\n",
              "    .dataframe thead th {\n",
              "        text-align: right;\n",
              "    }\n",
              "</style>\n",
              "<table border=\"1\" class=\"dataframe\">\n",
              "  <thead>\n",
              "    <tr style=\"text-align: right;\">\n",
              "      <th></th>\n",
              "      <th>SepalLength</th>\n",
              "      <th>SepalWidth</th>\n",
              "      <th>PetalLength</th>\n",
              "      <th>PetalWidth</th>\n",
              "      <th>Species</th>\n",
              "    </tr>\n",
              "  </thead>\n",
              "  <tbody>\n",
              "    <tr>\n",
              "      <th>0</th>\n",
              "      <td>6.4</td>\n",
              "      <td>2.8</td>\n",
              "      <td>5.6</td>\n",
              "      <td>2.2</td>\n",
              "      <td>2</td>\n",
              "    </tr>\n",
              "    <tr>\n",
              "      <th>1</th>\n",
              "      <td>5.0</td>\n",
              "      <td>2.3</td>\n",
              "      <td>3.3</td>\n",
              "      <td>1.0</td>\n",
              "      <td>1</td>\n",
              "    </tr>\n",
              "    <tr>\n",
              "      <th>2</th>\n",
              "      <td>4.9</td>\n",
              "      <td>2.5</td>\n",
              "      <td>4.5</td>\n",
              "      <td>1.7</td>\n",
              "      <td>2</td>\n",
              "    </tr>\n",
              "    <tr>\n",
              "      <th>3</th>\n",
              "      <td>4.9</td>\n",
              "      <td>3.1</td>\n",
              "      <td>1.5</td>\n",
              "      <td>0.1</td>\n",
              "      <td>0</td>\n",
              "    </tr>\n",
              "    <tr>\n",
              "      <th>4</th>\n",
              "      <td>5.7</td>\n",
              "      <td>3.8</td>\n",
              "      <td>1.7</td>\n",
              "      <td>0.3</td>\n",
              "      <td>0</td>\n",
              "    </tr>\n",
              "  </tbody>\n",
              "</table>\n",
              "</div>"
            ],
            "text/plain": [
              "   SepalLength  SepalWidth  PetalLength  PetalWidth  Species\n",
              "0          6.4         2.8          5.6         2.2        2\n",
              "1          5.0         2.3          3.3         1.0        1\n",
              "2          4.9         2.5          4.5         1.7        2\n",
              "3          4.9         3.1          1.5         0.1        0\n",
              "4          5.7         3.8          1.7         0.3        0"
            ]
          },
          "metadata": {
            "tags": []
          },
          "execution_count": 7
        }
      ]
    },
    {
      "cell_type": "code",
      "metadata": {
        "id": "dcdURX9G_830"
      },
      "source": [
        "train_y = train.pop('Species')\n",
        "test_y = test.pop('Species')"
      ],
      "execution_count": 9,
      "outputs": []
    },
    {
      "cell_type": "code",
      "metadata": {
        "id": "9MIncuM3ARSb"
      },
      "source": [
        "def input_fn(features, labels, training = True, batch_size=256):\n",
        "  dataset=tf.data.Dataset.from_tensor_slices((dict(features),labels))\n",
        "  if training:\n",
        "    dataset = dataset.shuffle(1000).repeat()\n",
        "  return dataset.batch(batch_size)"
      ],
      "execution_count": 19,
      "outputs": []
    },
    {
      "cell_type": "code",
      "metadata": {
        "colab": {
          "base_uri": "https://localhost:8080/"
        },
        "id": "iAI0fxxpC0Me",
        "outputId": "5f9db368-5404-4ccf-c8d2-6c77f7751a63"
      },
      "source": [
        "my_feature_columns = []\n",
        "for key in train.keys():\n",
        "  my_feature_columns.append(tf.feature_column.numeric_column(key=key))\n",
        "print(my_feature_columns)\n"
      ],
      "execution_count": 20,
      "outputs": [
        {
          "output_type": "stream",
          "text": [
            "[NumericColumn(key='SepalLength', shape=(1,), default_value=None, dtype=tf.float32, normalizer_fn=None), NumericColumn(key='SepalWidth', shape=(1,), default_value=None, dtype=tf.float32, normalizer_fn=None), NumericColumn(key='PetalLength', shape=(1,), default_value=None, dtype=tf.float32, normalizer_fn=None), NumericColumn(key='PetalWidth', shape=(1,), default_value=None, dtype=tf.float32, normalizer_fn=None)]\n"
          ],
          "name": "stdout"
        }
      ]
    },
    {
      "cell_type": "code",
      "metadata": {
        "colab": {
          "base_uri": "https://localhost:8080/"
        },
        "id": "rb3fDCtYDiZu",
        "outputId": "4bab9013-8a25-481e-f28a-fe72967c4823"
      },
      "source": [
        "classifier = tf.estimator.DNNClassifier(feature_columns=my_feature_columns, hidden_units=[30,10],n_classes=3)"
      ],
      "execution_count": 21,
      "outputs": [
        {
          "output_type": "stream",
          "text": [
            "INFO:tensorflow:Using default config.\n",
            "WARNING:tensorflow:Using temporary folder as model directory: /tmp/tmp1pccorqj\n",
            "INFO:tensorflow:Using config: {'_model_dir': '/tmp/tmp1pccorqj', '_tf_random_seed': None, '_save_summary_steps': 100, '_save_checkpoints_steps': None, '_save_checkpoints_secs': 600, '_session_config': allow_soft_placement: true\n",
            "graph_options {\n",
            "  rewrite_options {\n",
            "    meta_optimizer_iterations: ONE\n",
            "  }\n",
            "}\n",
            ", '_keep_checkpoint_max': 5, '_keep_checkpoint_every_n_hours': 10000, '_log_step_count_steps': 100, '_train_distribute': None, '_device_fn': None, '_protocol': None, '_eval_distribute': None, '_experimental_distribute': None, '_experimental_max_worker_delay_secs': None, '_session_creation_timeout_secs': 7200, '_checkpoint_save_graph_def': True, '_service': None, '_cluster_spec': ClusterSpec({}), '_task_type': 'worker', '_task_id': 0, '_global_id_in_cluster': 0, '_master': '', '_evaluation_master': '', '_is_chief': True, '_num_ps_replicas': 0, '_num_worker_replicas': 1}\n"
          ],
          "name": "stdout"
        }
      ]
    },
    {
      "cell_type": "code",
      "metadata": {
        "colab": {
          "base_uri": "https://localhost:8080/"
        },
        "id": "HntT015GE9Cs",
        "outputId": "c1ce0735-81c2-45de-b101-721cabb1e4a1"
      },
      "source": [
        "classifier.train(\n",
        "    input_fn = lambda: input_fn(train, train_y, training=True),\n",
        "steps=5000)"
      ],
      "execution_count": 22,
      "outputs": [
        {
          "output_type": "stream",
          "text": [
            "INFO:tensorflow:Calling model_fn.\n",
            "WARNING:tensorflow:From /usr/local/lib/python3.7/dist-packages/tensorflow/python/keras/optimizer_v2/adagrad.py:83: calling Constant.__init__ (from tensorflow.python.ops.init_ops) with dtype is deprecated and will be removed in a future version.\n",
            "Instructions for updating:\n",
            "Call initializer instance with the dtype argument instead of passing it to the constructor\n",
            "INFO:tensorflow:Done calling model_fn.\n",
            "INFO:tensorflow:Create CheckpointSaverHook.\n",
            "INFO:tensorflow:Graph was finalized.\n",
            "INFO:tensorflow:Running local_init_op.\n",
            "INFO:tensorflow:Done running local_init_op.\n",
            "INFO:tensorflow:Calling checkpoint listeners before saving checkpoint 0...\n",
            "INFO:tensorflow:Saving checkpoints for 0 into /tmp/tmp1pccorqj/model.ckpt.\n",
            "INFO:tensorflow:Calling checkpoint listeners after saving checkpoint 0...\n",
            "INFO:tensorflow:loss = 1.1314073, step = 0\n",
            "INFO:tensorflow:global_step/sec: 444.828\n",
            "INFO:tensorflow:loss = 1.0748627, step = 100 (0.231 sec)\n",
            "INFO:tensorflow:global_step/sec: 498.91\n",
            "INFO:tensorflow:loss = 1.0607709, step = 200 (0.198 sec)\n",
            "INFO:tensorflow:global_step/sec: 505.283\n",
            "INFO:tensorflow:loss = 1.050741, step = 300 (0.200 sec)\n",
            "INFO:tensorflow:global_step/sec: 462.59\n",
            "INFO:tensorflow:loss = 1.0383232, step = 400 (0.214 sec)\n",
            "INFO:tensorflow:global_step/sec: 497.081\n",
            "INFO:tensorflow:loss = 1.02613, step = 500 (0.202 sec)\n",
            "INFO:tensorflow:global_step/sec: 557.6\n",
            "INFO:tensorflow:loss = 1.0215974, step = 600 (0.179 sec)\n",
            "INFO:tensorflow:global_step/sec: 550.525\n",
            "INFO:tensorflow:loss = 1.0086489, step = 700 (0.184 sec)\n",
            "INFO:tensorflow:global_step/sec: 542.153\n",
            "INFO:tensorflow:loss = 1.0047283, step = 800 (0.184 sec)\n",
            "INFO:tensorflow:global_step/sec: 514.318\n",
            "INFO:tensorflow:loss = 0.99694896, step = 900 (0.195 sec)\n",
            "INFO:tensorflow:global_step/sec: 525.333\n",
            "INFO:tensorflow:loss = 0.9849732, step = 1000 (0.193 sec)\n",
            "INFO:tensorflow:global_step/sec: 505.905\n",
            "INFO:tensorflow:loss = 0.9807011, step = 1100 (0.195 sec)\n",
            "INFO:tensorflow:global_step/sec: 522.398\n",
            "INFO:tensorflow:loss = 0.9768207, step = 1200 (0.192 sec)\n",
            "INFO:tensorflow:global_step/sec: 565.947\n",
            "INFO:tensorflow:loss = 0.96823287, step = 1300 (0.174 sec)\n",
            "INFO:tensorflow:global_step/sec: 551.037\n",
            "INFO:tensorflow:loss = 0.9610579, step = 1400 (0.181 sec)\n",
            "INFO:tensorflow:global_step/sec: 538.408\n",
            "INFO:tensorflow:loss = 0.95676345, step = 1500 (0.189 sec)\n",
            "INFO:tensorflow:global_step/sec: 478.635\n",
            "INFO:tensorflow:loss = 0.94498646, step = 1600 (0.210 sec)\n",
            "INFO:tensorflow:global_step/sec: 493.135\n",
            "INFO:tensorflow:loss = 0.9338949, step = 1700 (0.203 sec)\n",
            "INFO:tensorflow:global_step/sec: 546.396\n",
            "INFO:tensorflow:loss = 0.9296224, step = 1800 (0.183 sec)\n",
            "INFO:tensorflow:global_step/sec: 478.809\n",
            "INFO:tensorflow:loss = 0.92192096, step = 1900 (0.209 sec)\n",
            "INFO:tensorflow:global_step/sec: 510.702\n",
            "INFO:tensorflow:loss = 0.9343107, step = 2000 (0.195 sec)\n",
            "INFO:tensorflow:global_step/sec: 448.932\n",
            "INFO:tensorflow:loss = 0.91228855, step = 2100 (0.224 sec)\n",
            "INFO:tensorflow:global_step/sec: 443.135\n",
            "INFO:tensorflow:loss = 0.9210612, step = 2200 (0.225 sec)\n",
            "INFO:tensorflow:global_step/sec: 449.881\n",
            "INFO:tensorflow:loss = 0.9037286, step = 2300 (0.220 sec)\n",
            "INFO:tensorflow:global_step/sec: 523.412\n",
            "INFO:tensorflow:loss = 0.89944184, step = 2400 (0.194 sec)\n",
            "INFO:tensorflow:global_step/sec: 505.362\n",
            "INFO:tensorflow:loss = 0.89071465, step = 2500 (0.195 sec)\n",
            "INFO:tensorflow:global_step/sec: 513.631\n",
            "INFO:tensorflow:loss = 0.88315356, step = 2600 (0.198 sec)\n",
            "INFO:tensorflow:global_step/sec: 468.917\n",
            "INFO:tensorflow:loss = 0.8790928, step = 2700 (0.209 sec)\n",
            "INFO:tensorflow:global_step/sec: 519.287\n",
            "INFO:tensorflow:loss = 0.877973, step = 2800 (0.195 sec)\n",
            "INFO:tensorflow:global_step/sec: 556.364\n",
            "INFO:tensorflow:loss = 0.86504877, step = 2900 (0.180 sec)\n",
            "INFO:tensorflow:global_step/sec: 507.111\n",
            "INFO:tensorflow:loss = 0.85659933, step = 3000 (0.194 sec)\n",
            "INFO:tensorflow:global_step/sec: 447.135\n",
            "INFO:tensorflow:loss = 0.8694189, step = 3100 (0.232 sec)\n",
            "INFO:tensorflow:global_step/sec: 498.399\n",
            "INFO:tensorflow:loss = 0.85700595, step = 3200 (0.195 sec)\n",
            "INFO:tensorflow:global_step/sec: 496.477\n",
            "INFO:tensorflow:loss = 0.8459238, step = 3300 (0.201 sec)\n",
            "INFO:tensorflow:global_step/sec: 542.175\n",
            "INFO:tensorflow:loss = 0.83127666, step = 3400 (0.182 sec)\n",
            "INFO:tensorflow:global_step/sec: 436.925\n",
            "INFO:tensorflow:loss = 0.84453344, step = 3500 (0.231 sec)\n",
            "INFO:tensorflow:global_step/sec: 435.259\n",
            "INFO:tensorflow:loss = 0.838748, step = 3600 (0.232 sec)\n",
            "INFO:tensorflow:global_step/sec: 439.096\n",
            "INFO:tensorflow:loss = 0.82468295, step = 3700 (0.227 sec)\n",
            "INFO:tensorflow:global_step/sec: 507.088\n",
            "INFO:tensorflow:loss = 0.8205963, step = 3800 (0.197 sec)\n",
            "INFO:tensorflow:global_step/sec: 536.005\n",
            "INFO:tensorflow:loss = 0.81820333, step = 3900 (0.184 sec)\n",
            "INFO:tensorflow:global_step/sec: 482.414\n",
            "INFO:tensorflow:loss = 0.812511, step = 4000 (0.211 sec)\n",
            "INFO:tensorflow:global_step/sec: 451.398\n",
            "INFO:tensorflow:loss = 0.790038, step = 4100 (0.221 sec)\n",
            "INFO:tensorflow:global_step/sec: 461.212\n",
            "INFO:tensorflow:loss = 0.80739355, step = 4200 (0.215 sec)\n",
            "INFO:tensorflow:global_step/sec: 495.885\n",
            "INFO:tensorflow:loss = 0.80699104, step = 4300 (0.201 sec)\n",
            "INFO:tensorflow:global_step/sec: 494.284\n",
            "INFO:tensorflow:loss = 0.8012105, step = 4400 (0.204 sec)\n",
            "INFO:tensorflow:global_step/sec: 511.916\n",
            "INFO:tensorflow:loss = 0.79443157, step = 4500 (0.194 sec)\n",
            "INFO:tensorflow:global_step/sec: 528.945\n",
            "INFO:tensorflow:loss = 0.80895686, step = 4600 (0.191 sec)\n",
            "INFO:tensorflow:global_step/sec: 539.402\n",
            "INFO:tensorflow:loss = 0.78901404, step = 4700 (0.186 sec)\n",
            "INFO:tensorflow:global_step/sec: 524.88\n",
            "INFO:tensorflow:loss = 0.77697855, step = 4800 (0.191 sec)\n",
            "INFO:tensorflow:global_step/sec: 484.04\n",
            "INFO:tensorflow:loss = 0.802202, step = 4900 (0.204 sec)\n",
            "INFO:tensorflow:Calling checkpoint listeners before saving checkpoint 5000...\n",
            "INFO:tensorflow:Saving checkpoints for 5000 into /tmp/tmp1pccorqj/model.ckpt.\n",
            "INFO:tensorflow:Calling checkpoint listeners after saving checkpoint 5000...\n",
            "INFO:tensorflow:Loss for final step: 0.78403616.\n"
          ],
          "name": "stdout"
        },
        {
          "output_type": "execute_result",
          "data": {
            "text/plain": [
              "<tensorflow_estimator.python.estimator.canned.dnn.DNNClassifierV2 at 0x7ff8cab96790>"
            ]
          },
          "metadata": {
            "tags": []
          },
          "execution_count": 22
        }
      ]
    },
    {
      "cell_type": "code",
      "metadata": {
        "colab": {
          "base_uri": "https://localhost:8080/"
        },
        "id": "1I5pSmHwGg1m",
        "outputId": "a17c56cf-06ee-4675-93f7-6d8847e3397e"
      },
      "source": [
        "eval_result = classifier.evaluate(input_fn = lambda: input_fn(test, test_y, training=False))\n",
        "print('accuracy'.format(**eval_result))"
      ],
      "execution_count": 23,
      "outputs": [
        {
          "output_type": "stream",
          "text": [
            "INFO:tensorflow:Calling model_fn.\n",
            "INFO:tensorflow:Done calling model_fn.\n",
            "INFO:tensorflow:Starting evaluation at 2021-05-17T06:58:49Z\n",
            "INFO:tensorflow:Graph was finalized.\n",
            "INFO:tensorflow:Restoring parameters from /tmp/tmp1pccorqj/model.ckpt-5000\n",
            "INFO:tensorflow:Running local_init_op.\n",
            "INFO:tensorflow:Done running local_init_op.\n",
            "INFO:tensorflow:Inference Time : 0.27356s\n",
            "INFO:tensorflow:Finished evaluation at 2021-05-17-06:58:49\n",
            "INFO:tensorflow:Saving dict for global step 5000: accuracy = 0.6, average_loss = 0.8379618, global_step = 5000, loss = 0.8379618\n",
            "INFO:tensorflow:Saving 'checkpoint_path' summary for global step 5000: /tmp/tmp1pccorqj/model.ckpt-5000\n",
            "accuracy\n"
          ],
          "name": "stdout"
        }
      ]
    },
    {
      "cell_type": "code",
      "metadata": {
        "colab": {
          "base_uri": "https://localhost:8080/"
        },
        "id": "wbqRpB1LHr50",
        "outputId": "b0621901-704a-4330-8dbd-699150e2245d"
      },
      "source": [
        "def input_fn(features, batch_size=256):\n",
        "    # Convert the inputs to a Dataset without labels.\n",
        "    return tf.data.Dataset.from_tensor_slices(dict(features)).batch(batch_size)\n",
        "\n",
        "features = ['SepalLength', 'SepalWidth', 'PetalLength', 'PetalWidth']\n",
        "predict = {}\n",
        "\n",
        "print(\"Please type numeric values as prompted.\")\n",
        "for feature in features:\n",
        "  valid = True\n",
        "  while valid: \n",
        "    val = input(feature + \": \")\n",
        "    if not val.isdigit(): valid = False\n",
        "\n",
        "  predict[feature] = [float(val)]\n",
        "\n",
        "predictions = classifier.predict(input_fn=lambda: input_fn(predict))\n",
        "for pred_dict in predictions:\n",
        "    class_id = pred_dict['class_ids'][0]\n",
        "    probability = pred_dict['probabilities'][class_id]\n",
        "\n",
        "    print('Prediction is \"{}\" ({:.1f}%)'.format(\n",
        "        SPECIES[class_id], 100 * probability))"
      ],
      "execution_count": 30,
      "outputs": [
        {
          "output_type": "stream",
          "text": [
            "Please type numeric values as prompted.\n",
            "SepalLength: 2.4\n",
            "SepalWidth: 2.6\n",
            "PetalLength: 6.5\n",
            "PetalWidth: 6.3\n",
            "INFO:tensorflow:Calling model_fn.\n",
            "INFO:tensorflow:Done calling model_fn.\n",
            "INFO:tensorflow:Graph was finalized.\n",
            "INFO:tensorflow:Restoring parameters from /tmp/tmp1pccorqj/model.ckpt-5000\n",
            "INFO:tensorflow:Running local_init_op.\n",
            "INFO:tensorflow:Done running local_init_op.\n",
            "Prediction is \"Versicolor\" (46.0%)\n"
          ],
          "name": "stdout"
        }
      ]
    },
    {
      "cell_type": "code",
      "metadata": {
        "id": "qxsdUzrXNMJk"
      },
      "source": [
        ""
      ],
      "execution_count": null,
      "outputs": []
    }
  ]
}