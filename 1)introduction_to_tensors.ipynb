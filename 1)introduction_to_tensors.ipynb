{
  "nbformat": 4,
  "nbformat_minor": 0,
  "metadata": {
    "colab": {
      "name": "1)introduction to tensors.ipynb",
      "provenance": [],
      "authorship_tag": "ABX9TyOnpyvzM+Uvt2l2LYEa6v6c",
      "include_colab_link": true
    },
    "kernelspec": {
      "name": "python3",
      "display_name": "Python 3"
    },
    "language_info": {
      "name": "python"
    }
  },
  "cells": [
    {
      "cell_type": "markdown",
      "metadata": {
        "id": "view-in-github",
        "colab_type": "text"
      },
      "source": [
        "<a href=\"https://colab.research.google.com/github/ShaamNatheshwar/deep_learning/blob/main/1)introduction_to_tensors.ipynb\" target=\"_parent\"><img src=\"https://colab.research.google.com/assets/colab-badge.svg\" alt=\"Open In Colab\"/></a>"
      ]
    },
    {
      "cell_type": "code",
      "metadata": {
        "id": "zkPJZBOa4mA2"
      },
      "source": [
        "import tensorflow as tf"
      ],
      "execution_count": 2,
      "outputs": []
    },
    {
      "cell_type": "markdown",
      "metadata": {
        "id": "Sgzai-9h4oGR"
      },
      "source": [
        "create tensors"
      ]
    },
    {
      "cell_type": "code",
      "metadata": {
        "id": "-MW-sRo74vqn"
      },
      "source": [
        "# assign the variable , use tf.Variable mention wat is the string and string type\n",
        "# these above stuffs have an value of 1 so simply a scaler\n",
        "#the rank will be literally zero \n",
        "variable = tf.Variable(\"This is a string\", tf.string)"
      ],
      "execution_count": 3,
      "outputs": []
    },
    {
      "cell_type": "code",
      "metadata": {
        "id": "3gxk9XYI40UL"
      },
      "source": [
        "variable"
      ],
      "execution_count": null,
      "outputs": []
    },
    {
      "cell_type": "code",
      "metadata": {
        "id": "52KE3gBv43Ja"
      },
      "source": [
        "number = tf.Variable(324,tf.int16)"
      ],
      "execution_count": 4,
      "outputs": []
    },
    {
      "cell_type": "code",
      "metadata": {
        "id": "iT5fMUMk5FVG"
      },
      "source": [
        "# ranks\n",
        "# here we are using array , the array has a value of 1 , we can increase the rank by nesting more stuffs,make sure tht we use\n",
        "# 2 brackets\n",
        "rank_1 = tf.Variable([\"shaam\",\"sss\"],tf.string)"
      ],
      "execution_count": 5,
      "outputs": []
    },
    {
      "cell_type": "code",
      "metadata": {
        "colab": {
          "base_uri": "https://localhost:8080/"
        },
        "id": "cfKPUfva5GD1",
        "outputId": "3a7151e1-21a9-409f-b6f2-2e2efccb375b"
      },
      "source": [
        "tf.rank(rank_1)\n",
        "# we should have same number of elements"
      ],
      "execution_count": 6,
      "outputs": [
        {
          "output_type": "execute_result",
          "data": {
            "text/plain": [
              "<tf.Tensor: shape=(), dtype=int32, numpy=1>"
            ]
          },
          "metadata": {
            "tags": []
          },
          "execution_count": 6
        }
      ]
    },
    {
      "cell_type": "code",
      "metadata": {
        "id": "D37u7UB55JR9"
      },
      "source": [
        "rank_2 = tf.Variable([[\"ssn\",\"sss\"],[\"vvp\",\"ssg\"]],tf.string)"
      ],
      "execution_count": 7,
      "outputs": []
    },
    {
      "cell_type": "code",
      "metadata": {
        "colab": {
          "base_uri": "https://localhost:8080/"
        },
        "id": "yO0yCj055Ls6",
        "outputId": "93471fe0-fab0-4fb4-fdc8-9b6a28027233"
      },
      "source": [
        "# here the numpy2 gives the rank\n",
        "tf.rank(rank_2)"
      ],
      "execution_count": 8,
      "outputs": [
        {
          "output_type": "execute_result",
          "data": {
            "text/plain": [
              "<tf.Tensor: shape=(), dtype=int32, numpy=2>"
            ]
          },
          "metadata": {
            "tags": []
          },
          "execution_count": 8
        }
      ]
    },
    {
      "cell_type": "code",
      "metadata": {
        "id": "KHwjYte55Nq6"
      },
      "source": [
        ""
      ],
      "execution_count": null,
      "outputs": []
    },
    {
      "cell_type": "markdown",
      "metadata": {
        "id": "hGriEtrl5RuD"
      },
      "source": [
        "### **shape**"
      ]
    },
    {
      "cell_type": "code",
      "metadata": {
        "colab": {
          "base_uri": "https://localhost:8080/"
        },
        "id": "tcL5Ro5k5X1R",
        "outputId": "1c4678a0-35a4-4f0e-ed13-26bb26bddd92"
      },
      "source": [
        "# .shape helps in giving the shape this implies tht there 2 elements in first and second\n",
        "rank_2.shape"
      ],
      "execution_count": 9,
      "outputs": [
        {
          "output_type": "execute_result",
          "data": {
            "text/plain": [
              "TensorShape([2, 2])"
            ]
          },
          "metadata": {
            "tags": []
          },
          "execution_count": 9
        }
      ]
    },
    {
      "cell_type": "code",
      "metadata": {
        "colab": {
          "base_uri": "https://localhost:8080/"
        },
        "id": "uxxNRms15bN1",
        "outputId": "3a673ea0-4da7-4711-e9a9-1015d90b77e8"
      },
      "source": [
        "# this 1,2,3 shows tht ... I need an overall of 1 within tht it should have 2 list with 3 elements respectively on it\n",
        "tensor_1 = tf.ones([1,2,3])\n",
        "tensor_1"
      ],
      "execution_count": 10,
      "outputs": [
        {
          "output_type": "execute_result",
          "data": {
            "text/plain": [
              "<tf.Tensor: shape=(1, 2, 3), dtype=float32, numpy=\n",
              "array([[[1., 1., 1.],\n",
              "        [1., 1., 1.]]], dtype=float32)>"
            ]
          },
          "metadata": {
            "tags": []
          },
          "execution_count": 10
        }
      ]
    },
    {
      "cell_type": "code",
      "metadata": {
        "colab": {
          "base_uri": "https://localhost:8080/"
        },
        "id": "zurha5rp5daU",
        "outputId": "ffa3c2c4-c6e6-459f-981a-2277a0f7f438"
      },
      "source": [
        "tensor_2 = tf.reshape(tensor_1,[3,2,1])\n",
        "tensor_2"
      ],
      "execution_count": 11,
      "outputs": [
        {
          "output_type": "execute_result",
          "data": {
            "text/plain": [
              "<tf.Tensor: shape=(3, 2, 1), dtype=float32, numpy=\n",
              "array([[[1.],\n",
              "        [1.]],\n",
              "\n",
              "       [[1.],\n",
              "        [1.]],\n",
              "\n",
              "       [[1.],\n",
              "        [1.]]], dtype=float32)>"
            ]
          },
          "metadata": {
            "tags": []
          },
          "execution_count": 11
        }
      ]
    },
    {
      "cell_type": "code",
      "metadata": {
        "colab": {
          "base_uri": "https://localhost:8080/"
        },
        "id": "qQQaBnBa5f55",
        "outputId": "3dcfdb4d-6e84-4278-a09e-58ac49a3592b"
      },
      "source": [
        "# This negative term\n",
        "tensor_3 = tf.reshape(tensor_2,[3,-1])\n",
        "tensor_3"
      ],
      "execution_count": 13,
      "outputs": [
        {
          "output_type": "execute_result",
          "data": {
            "text/plain": [
              "<tf.Tensor: shape=(3, 2), dtype=float32, numpy=\n",
              "array([[1., 1.],\n",
              "       [1., 1.],\n",
              "       [1., 1.]], dtype=float32)>"
            ]
          },
          "metadata": {
            "tags": []
          },
          "execution_count": 13
        }
      ]
    },
    {
      "cell_type": "code",
      "metadata": {
        "id": "0Pvkddq35iR5"
      },
      "source": [
        ""
      ],
      "execution_count": null,
      "outputs": []
    },
    {
      "cell_type": "markdown",
      "metadata": {
        "id": "qzg4wt1-5tGL"
      },
      "source": [
        "different types of tensors\n",
        " \n",
        "variables\n",
        "\n",
        "constant\n",
        "\n",
        "place holders\n",
        "\n",
        "sparse tensors¶"
      ]
    },
    {
      "cell_type": "code",
      "metadata": {
        "id": "r_W0iAiu5vwX"
      },
      "source": [
        "# note tht except variable all are immutable"
      ],
      "execution_count": 14,
      "outputs": []
    },
    {
      "cell_type": "code",
      "metadata": {
        "id": "Yjb1v1Ba57eV"
      },
      "source": [
        "# sometimes while working we need to evaluate tensor like say we have to get its values so for tht we will be using this method"
      ],
      "execution_count": 15,
      "outputs": []
    },
    {
      "cell_type": "code",
      "metadata": {
        "colab": {
          "base_uri": "https://localhost:8080/",
          "height": 180
        },
        "id": "97iWfJvM571h",
        "outputId": "1bacd807-7857-4ca4-bb44-82f73007100d"
      },
      "source": [
        "with tf.Session() as sess:\n",
        "    tensor.eval()"
      ],
      "execution_count": 16,
      "outputs": [
        {
          "output_type": "error",
          "ename": "AttributeError",
          "evalue": "ignored",
          "traceback": [
            "\u001b[0;31m---------------------------------------------------------------------------\u001b[0m",
            "\u001b[0;31mAttributeError\u001b[0m                            Traceback (most recent call last)",
            "\u001b[0;32m<ipython-input-16-7610e8a33358>\u001b[0m in \u001b[0;36m<module>\u001b[0;34m()\u001b[0m\n\u001b[0;32m----> 1\u001b[0;31m \u001b[0;32mwith\u001b[0m \u001b[0mtf\u001b[0m\u001b[0;34m.\u001b[0m\u001b[0mSession\u001b[0m\u001b[0;34m(\u001b[0m\u001b[0;34m)\u001b[0m \u001b[0;32mas\u001b[0m \u001b[0msess\u001b[0m\u001b[0;34m:\u001b[0m\u001b[0;34m\u001b[0m\u001b[0;34m\u001b[0m\u001b[0m\n\u001b[0m\u001b[1;32m      2\u001b[0m     \u001b[0mtensor\u001b[0m\u001b[0;34m.\u001b[0m\u001b[0meval\u001b[0m\u001b[0;34m(\u001b[0m\u001b[0;34m)\u001b[0m\u001b[0;34m\u001b[0m\u001b[0;34m\u001b[0m\u001b[0m\n",
            "\u001b[0;31mAttributeError\u001b[0m: module 'tensorflow' has no attribute 'Session'"
          ]
        }
      ]
    },
    {
      "cell_type": "code",
      "metadata": {
        "id": "0thpajH059_s"
      },
      "source": [
        ""
      ],
      "execution_count": null,
      "outputs": []
    }
  ]
}